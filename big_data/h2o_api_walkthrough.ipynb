{
 "cells": [
  {
   "cell_type": "markdown",
   "metadata": {
    "toc": true
   },
   "source": [
    "<h1>Table of Contents<span class=\"tocSkip\"></span></h1>\n",
    "<div class=\"toc\"><ul class=\"toc-item\"><li><span><a href=\"#H2O-API-Walkthrough\" data-toc-modified-id=\"H2O-API-Walkthrough-1\"><span class=\"toc-item-num\">1&nbsp;&nbsp;</span>H2O API Walkthrough</a></span><ul class=\"toc-item\"><li><span><a href=\"#General-Setup\" data-toc-modified-id=\"General-Setup-1.1\"><span class=\"toc-item-num\">1.1&nbsp;&nbsp;</span>General Setup</a></span></li><li><span><a href=\"#Modeling\" data-toc-modified-id=\"Modeling-1.2\"><span class=\"toc-item-num\">1.2&nbsp;&nbsp;</span>Modeling</a></span></li><li><span><a href=\"#Hyperparameter-Tuning\" data-toc-modified-id=\"Hyperparameter-Tuning-1.3\"><span class=\"toc-item-num\">1.3&nbsp;&nbsp;</span>Hyperparameter Tuning</a></span></li></ul></li><li><span><a href=\"#Reference\" data-toc-modified-id=\"Reference-2\"><span class=\"toc-item-num\">2&nbsp;&nbsp;</span>Reference</a></span></li></ul></div>"
   ]
  },
  {
   "cell_type": "code",
   "execution_count": 1,
   "metadata": {},
   "outputs": [
    {
     "data": {
      "text/html": [
       "<style>\n",
       "@import url('http://fonts.googleapis.com/css?family=Source+Code+Pro');\n",
       "@import url('http://fonts.googleapis.com/css?family=Vollkorn');\n",
       "@import url('http://fonts.googleapis.com/css?family=Arimo');\n",
       "@import url('http://fonts.googleapis.com/css?family=Fira_sans');\n",
       "    \n",
       "    div.cell {\n",
       "        width: 1000px;\n",
       "        margin-left: 0% !important;\n",
       "        margin-right: auto;\n",
       "    }\n",
       "    div.text_cell code {\n",
       "        background: transparent;\n",
       "        color: #000000;\n",
       "        font-weight: 600;\n",
       "        font-size: 12pt;\n",
       "        font-style: bold;\n",
       "        font-family:  'Source Code Pro', Consolas, monocco, monospace;\n",
       "    }\n",
       "    h1 {\n",
       "        font-family: 'Open sans',verdana,arial,sans-serif;\n",
       "\t}\n",
       "\t\n",
       "    div.input_area {\n",
       "        background: #F6F6F9;\n",
       "        border: 1px solid #586e75;\n",
       "    }\n",
       "\n",
       "    .text_cell_render h1 {\n",
       "        font-weight: 200;\n",
       "        font-size: 30pt;\n",
       "        line-height: 100%;\n",
       "        color:#c76c0c;\n",
       "        margin-bottom: 0.5em;\n",
       "        margin-top: 1em;\n",
       "        display: block;\n",
       "        white-space: wrap;\n",
       "        text-align: left;\n",
       "    } \n",
       "    h2 {\n",
       "        font-family: 'Open sans',verdana,arial,sans-serif;\n",
       "        text-align: left;\n",
       "    }\n",
       "    .text_cell_render h2 {\n",
       "        font-weight: 200;\n",
       "        font-size: 16pt;\n",
       "        font-style: italic;\n",
       "        line-height: 100%;\n",
       "        color:#c76c0c;\n",
       "        margin-bottom: 0.5em;\n",
       "        margin-top: 1.5em;\n",
       "        display: block;\n",
       "        white-space: wrap;\n",
       "        text-align: left;\n",
       "    } \n",
       "    h3 {\n",
       "        font-family: 'Open sans',verdana,arial,sans-serif;\n",
       "    }\n",
       "    .text_cell_render h3 {\n",
       "        font-weight: 200;\n",
       "        font-size: 14pt;\n",
       "        line-height: 100%;\n",
       "        color:#d77c0c;\n",
       "        margin-bottom: 0.5em;\n",
       "        margin-top: 2em;\n",
       "        display: block;\n",
       "        white-space: wrap;\n",
       "        text-align: left;\n",
       "    }\n",
       "    h4 {\n",
       "        font-family: 'Open sans',verdana,arial,sans-serif;\n",
       "    }\n",
       "    .text_cell_render h4 {\n",
       "        font-weight: 100;\n",
       "        font-size: 14pt;\n",
       "        color:#d77c0c;\n",
       "        margin-bottom: 0.5em;\n",
       "        margin-top: 0.5em;\n",
       "        display: block;\n",
       "        white-space: nowrap;\n",
       "    }\n",
       "    h5 {\n",
       "        font-family: 'Open sans',verdana,arial,sans-serif;\n",
       "    }\n",
       "    .text_cell_render h5 {\n",
       "        font-weight: 200;\n",
       "        font-style: normal;\n",
       "        color: #1d3b84;\n",
       "        font-size: 16pt;\n",
       "        margin-bottom: 0em;\n",
       "        margin-top: 0.5em;\n",
       "        display: block;\n",
       "        white-space: nowrap;\n",
       "    }\n",
       "    div.text_cell_render{\n",
       "        font-family: 'Fira sans', verdana,arial,sans-serif;\n",
       "        line-height: 125%;\n",
       "        font-size: 115%;\n",
       "        text-align:justify;\n",
       "        text-justify:inter-word;\n",
       "    }\n",
       "    div.output_wrapper{\n",
       "        margin-top:0.2em;\n",
       "        margin-bottom:0.2em;\n",
       "    }\n",
       "\n",
       "    code{\n",
       "      font-size: 70%;\n",
       "    }\n",
       "    .rendered_html code{\n",
       "    background-color: transparent;\n",
       "    }\n",
       "    ul{\n",
       "        margin: 2em;\n",
       "    }\n",
       "    ul li{\n",
       "        padding-left: 0.5em; \n",
       "        margin-bottom: 0.5em; \n",
       "        margin-top: 0.5em; \n",
       "    }\n",
       "    ul li li{\n",
       "        padding-left: 0.2em; \n",
       "        margin-bottom: 0.2em; \n",
       "        margin-top: 0.2em; \n",
       "    }\n",
       "    ol{\n",
       "        margin: 2em;\n",
       "    }\n",
       "    ol li{\n",
       "        padding-left: 0.5em; \n",
       "        margin-bottom: 0.5em; \n",
       "        margin-top: 0.5em; \n",
       "    }\n",
       "    ul li{\n",
       "        padding-left: 0.5em; \n",
       "        margin-bottom: 0.5em; \n",
       "        margin-top: 0.2em; \n",
       "    }\n",
       "    a:link{\n",
       "       font-weight: bold;\n",
       "       color:#447adb;\n",
       "    }\n",
       "    a:visited{\n",
       "       font-weight: bold;\n",
       "       color: #1d3b84;\n",
       "    }\n",
       "    a:hover{\n",
       "       font-weight: bold;\n",
       "       color: #1d3b84;\n",
       "    }\n",
       "    a:focus{\n",
       "       font-weight: bold;\n",
       "       color:#447adb;\n",
       "    }\n",
       "    a:active{\n",
       "       font-weight: bold;\n",
       "       color:#447adb;\n",
       "    }\n",
       "    .rendered_html :link {\n",
       "       text-decoration: underline; \n",
       "    }\n",
       "    .rendered_html :hover {\n",
       "       text-decoration: none; \n",
       "    }\n",
       "    .rendered_html :visited {\n",
       "      text-decoration: none;\n",
       "    }\n",
       "    .rendered_html :focus {\n",
       "      text-decoration: none;\n",
       "    }\n",
       "    .rendered_html :active {\n",
       "      text-decoration: none;\n",
       "    }\n",
       "    .warning{\n",
       "        color: rgb( 240, 20, 20 )\n",
       "    } \n",
       "    hr {\n",
       "      color: #f3f3f3;\n",
       "      background-color: #f3f3f3;\n",
       "      height: 1px;\n",
       "    }\n",
       "    blockquote{\n",
       "      display:block;\n",
       "      background: #fcfcfc;\n",
       "      border-left: 5px solid #c76c0c;\n",
       "      font-family: 'Open sans',verdana,arial,sans-serif;\n",
       "      width:680px;\n",
       "      padding: 10px 10px 10px 10px;\n",
       "      text-align:justify;\n",
       "      text-justify:inter-word;\n",
       "      }\n",
       "      blockquote p {\n",
       "        margin-bottom: 0;\n",
       "        line-height: 125%;\n",
       "        font-size: 100%;\n",
       "      }\n",
       "</style>\n",
       "<script>\n",
       "    MathJax.Hub.Config({\n",
       "                        TeX: {\n",
       "                           extensions: [\"AMSmath.js\"]\n",
       "                           },\n",
       "                tex2jax: {\n",
       "                    inlineMath: [ ['$','$'], [\"\\\\(\",\"\\\\)\"] ],\n",
       "                    displayMath: [ ['$$','$$'], [\"\\\\[\",\"\\\\]\"] ]\n",
       "                },\n",
       "                displayAlign: 'center', // Change this to 'center' to center equations.\n",
       "                \"HTML-CSS\": {\n",
       "                    scale:100,\n",
       "                        availableFonts: [],\n",
       "                        preferredFont:null,\n",
       "                        webFont: \"TeX\",\n",
       "                    styles: {'.MathJax_Display': {\"margin\": 4}}\n",
       "                }\n",
       "        });\n",
       "</script>\n"
      ],
      "text/plain": [
       "<IPython.core.display.HTML object>"
      ]
     },
     "execution_count": 1,
     "metadata": {},
     "output_type": "execute_result"
    }
   ],
   "source": [
    "# code for loading the format for the notebook\n",
    "import os\n",
    "\n",
    "# path : store the current path to convert back to it later\n",
    "path = os.getcwd()\n",
    "os.chdir(os.path.join('..', 'notebook_format'))\n",
    "from formats import load_style\n",
    "load_style(plot_style = False)"
   ]
  },
  {
   "cell_type": "code",
   "execution_count": 2,
   "metadata": {},
   "outputs": [
    {
     "name": "stdout",
     "output_type": "stream",
     "text": [
      "Ethen 2018-05-03 12:08:03 \n",
      "\n",
      "CPython 3.6.4\n",
      "IPython 6.3.1\n",
      "\n",
      "h2o 3.18.0.4\n",
      "matplotlib 2.2.2\n"
     ]
    }
   ],
   "source": [
    "os.chdir(path)\n",
    "\n",
    "# 1. magic for inline plot\n",
    "# 2. magic to print version\n",
    "# 3. magic so that the notebook will reload external python modules\n",
    "# 4. magic to enable retina (high resolution) plots\n",
    "# https://gist.github.com/minrk/3301035\n",
    "%matplotlib inline\n",
    "%load_ext watermark\n",
    "%load_ext autoreload\n",
    "%autoreload 2\n",
    "%config InlineBackend.figure_format = 'retina'\n",
    "\n",
    "import matplotlib.pyplot as plt\n",
    "\n",
    "%watermark -a 'Ethen' -d -t -v -p h2o,matplotlib"
   ]
  },
  {
   "cell_type": "markdown",
   "metadata": {},
   "source": [
    "# H2O API Walkthrough"
   ]
  },
  {
   "cell_type": "markdown",
   "metadata": {},
   "source": [
    "## General Setup"
   ]
  },
  {
   "cell_type": "markdown",
   "metadata": {},
   "source": [
    "The first question you might be asking is why H2O instead of scikit-learn or Spark MLlib.\n",
    "\n",
    "- People would prefer H2O over scikit-learn because it is much straightforward to integrate ML models into an existing non-Python system, i.e., Java-based product.\n",
    "- Performance wise, H2O is extremely fast and can outperform scikit-learn by a significant amount when the data size we're dealing with large datset. As for Spark, while it is a decent tool for ETL on raw data (which often is indeed \"big\"), its ML libraries are often times outperformed (in training time, memory footprint and even accuracy) by much better tools by orders of magnitude. Please refer to the benchmark at the following link for more detailed number-based proofs. [Github: A minimal benchmark for scalability, speed and accuracy of commonly used open source implementations](https://github.com/szilard/benchm-ml)\n",
    "\n",
    "```bash\n",
    "# for installing h2o in python\n",
    "pip install h2o\n",
    "```"
   ]
  },
  {
   "cell_type": "code",
   "execution_count": 3,
   "metadata": {},
   "outputs": [
    {
     "name": "stdout",
     "output_type": "stream",
     "text": [
      "Checking whether there is an H2O instance running at http://localhost:54321..... not found.\n",
      "Attempting to start a local H2O server...\n",
      "  Java Version: java version \"1.8.0_161\"; Java(TM) SE Runtime Environment (build 1.8.0_161-b12); Java HotSpot(TM) 64-Bit Server VM (build 25.161-b12, mixed mode)\n",
      "  Starting server from /Users/mingyuliu/anaconda3/lib/python3.6/site-packages/h2o/backend/bin/h2o.jar\n",
      "  Ice root: /var/folders/b6/fy5cl70s7nq6g7275rkdpd6m3967fj/T/tmpkx3ild87\n",
      "  JVM stdout: /var/folders/b6/fy5cl70s7nq6g7275rkdpd6m3967fj/T/tmpkx3ild87/h2o_mingyuliu_started_from_python.out\n",
      "  JVM stderr: /var/folders/b6/fy5cl70s7nq6g7275rkdpd6m3967fj/T/tmpkx3ild87/h2o_mingyuliu_started_from_python.err\n",
      "  Server is running at http://127.0.0.1:54321\n",
      "Connecting to H2O server at http://127.0.0.1:54321... successful.\n"
     ]
    },
    {
     "data": {
      "text/html": [
       "<div style=\"overflow:auto\"><table style=\"width:50%\"><tr><td>H2O cluster uptime:</td>\n",
       "<td>02 secs</td></tr>\n",
       "<tr><td>H2O cluster timezone:</td>\n",
       "<td>America/Los_Angeles</td></tr>\n",
       "<tr><td>H2O data parsing timezone:</td>\n",
       "<td>UTC</td></tr>\n",
       "<tr><td>H2O cluster version:</td>\n",
       "<td>3.18.0.4</td></tr>\n",
       "<tr><td>H2O cluster version age:</td>\n",
       "<td>1 month and 24 days </td></tr>\n",
       "<tr><td>H2O cluster name:</td>\n",
       "<td>H2O_from_python_mingyuliu_hxtmy3</td></tr>\n",
       "<tr><td>H2O cluster total nodes:</td>\n",
       "<td>1</td></tr>\n",
       "<tr><td>H2O cluster free memory:</td>\n",
       "<td>7.111 Gb</td></tr>\n",
       "<tr><td>H2O cluster total cores:</td>\n",
       "<td>8</td></tr>\n",
       "<tr><td>H2O cluster allowed cores:</td>\n",
       "<td>8</td></tr>\n",
       "<tr><td>H2O cluster status:</td>\n",
       "<td>accepting new members, healthy</td></tr>\n",
       "<tr><td>H2O connection url:</td>\n",
       "<td>http://127.0.0.1:54321</td></tr>\n",
       "<tr><td>H2O connection proxy:</td>\n",
       "<td>None</td></tr>\n",
       "<tr><td>H2O internal security:</td>\n",
       "<td>False</td></tr>\n",
       "<tr><td>H2O API Extensions:</td>\n",
       "<td>XGBoost, Algos, AutoML, Core V3, Core V4</td></tr>\n",
       "<tr><td>Python version:</td>\n",
       "<td>3.6.4 final</td></tr></table></div>"
      ],
      "text/plain": [
       "--------------------------  ----------------------------------------\n",
       "H2O cluster uptime:         02 secs\n",
       "H2O cluster timezone:       America/Los_Angeles\n",
       "H2O data parsing timezone:  UTC\n",
       "H2O cluster version:        3.18.0.4\n",
       "H2O cluster version age:    1 month and 24 days\n",
       "H2O cluster name:           H2O_from_python_mingyuliu_hxtmy3\n",
       "H2O cluster total nodes:    1\n",
       "H2O cluster free memory:    7.111 Gb\n",
       "H2O cluster total cores:    8\n",
       "H2O cluster allowed cores:  8\n",
       "H2O cluster status:         accepting new members, healthy\n",
       "H2O connection url:         http://127.0.0.1:54321\n",
       "H2O connection proxy:\n",
       "H2O internal security:      False\n",
       "H2O API Extensions:         XGBoost, Algos, AutoML, Core V3, Core V4\n",
       "Python version:             3.6.4 final\n",
       "--------------------------  ----------------------------------------"
      ]
     },
     "metadata": {},
     "output_type": "display_data"
    }
   ],
   "source": [
    "# Load the H2O library and start up the H2O cluter locally on your machine\n",
    "import h2o\n",
    "\n",
    "# Number of threads, nthreads = -1, means use all cores on your machine\n",
    "# max_mem_size is the maximum memory (in GB) to allocate to H2O\n",
    "h2o.init(nthreads = -1, max_mem_size = 8)"
   ]
  },
  {
   "cell_type": "markdown",
   "metadata": {},
   "source": [
    "In this example, we will be working with a cleaned up version of the Lending Club Bad Loans dataset. The purpose here is to predict whether a loan will be bad (i.e. not repaid to the lender). The response column, `bad_loan`, is 1 if the loan was bad, and 0 otherwise."
   ]
  },
  {
   "cell_type": "code",
   "execution_count": 4,
   "metadata": {},
   "outputs": [
    {
     "name": "stdout",
     "output_type": "stream",
     "text": [
      "Parse progress: |█████████████████████████████████████████████████████████| 100%\n",
      "dimension: (163987, 15)\n"
     ]
    },
    {
     "data": {
      "text/html": [
       "<table>\n",
       "<thead>\n",
       "<tr><th style=\"text-align: right;\">  loan_amnt</th><th>term     </th><th style=\"text-align: right;\">  int_rate</th><th style=\"text-align: right;\">  emp_length</th><th>home_ownership  </th><th style=\"text-align: right;\">  annual_inc</th><th>purpose       </th><th>addr_state  </th><th style=\"text-align: right;\">  dti</th><th style=\"text-align: right;\">  delinq_2yrs</th><th style=\"text-align: right;\">  revol_util</th><th style=\"text-align: right;\">  total_acc</th><th style=\"text-align: right;\">  bad_loan</th><th style=\"text-align: right;\">  longest_credit_length</th><th>verification_status  </th></tr>\n",
       "</thead>\n",
       "<tbody>\n",
       "<tr><td style=\"text-align: right;\">       5000</td><td>36 months</td><td style=\"text-align: right;\">     10.65</td><td style=\"text-align: right;\">          10</td><td>RENT            </td><td style=\"text-align: right;\">       24000</td><td>credit_card   </td><td>AZ          </td><td style=\"text-align: right;\">27.65</td><td style=\"text-align: right;\">            0</td><td style=\"text-align: right;\">        83.7</td><td style=\"text-align: right;\">          9</td><td style=\"text-align: right;\">         0</td><td style=\"text-align: right;\">                     26</td><td>verified             </td></tr>\n",
       "<tr><td style=\"text-align: right;\">       2500</td><td>60 months</td><td style=\"text-align: right;\">     15.27</td><td style=\"text-align: right;\">           0</td><td>RENT            </td><td style=\"text-align: right;\">       30000</td><td>car           </td><td>GA          </td><td style=\"text-align: right;\"> 1   </td><td style=\"text-align: right;\">            0</td><td style=\"text-align: right;\">         9.4</td><td style=\"text-align: right;\">          4</td><td style=\"text-align: right;\">         1</td><td style=\"text-align: right;\">                     12</td><td>verified             </td></tr>\n",
       "<tr><td style=\"text-align: right;\">       2400</td><td>36 months</td><td style=\"text-align: right;\">     15.96</td><td style=\"text-align: right;\">          10</td><td>RENT            </td><td style=\"text-align: right;\">       12252</td><td>small_business</td><td>IL          </td><td style=\"text-align: right;\"> 8.72</td><td style=\"text-align: right;\">            0</td><td style=\"text-align: right;\">        98.5</td><td style=\"text-align: right;\">         10</td><td style=\"text-align: right;\">         0</td><td style=\"text-align: right;\">                     10</td><td>not verified         </td></tr>\n",
       "<tr><td style=\"text-align: right;\">      10000</td><td>36 months</td><td style=\"text-align: right;\">     13.49</td><td style=\"text-align: right;\">          10</td><td>RENT            </td><td style=\"text-align: right;\">       49200</td><td>other         </td><td>CA          </td><td style=\"text-align: right;\">20   </td><td style=\"text-align: right;\">            0</td><td style=\"text-align: right;\">        21  </td><td style=\"text-align: right;\">         37</td><td style=\"text-align: right;\">         0</td><td style=\"text-align: right;\">                     15</td><td>verified             </td></tr>\n",
       "<tr><td style=\"text-align: right;\">       5000</td><td>36 months</td><td style=\"text-align: right;\">      7.9 </td><td style=\"text-align: right;\">           3</td><td>RENT            </td><td style=\"text-align: right;\">       36000</td><td>wedding       </td><td>AZ          </td><td style=\"text-align: right;\">11.2 </td><td style=\"text-align: right;\">            0</td><td style=\"text-align: right;\">        28.3</td><td style=\"text-align: right;\">         12</td><td style=\"text-align: right;\">         0</td><td style=\"text-align: right;\">                      7</td><td>verified             </td></tr>\n",
       "<tr><td style=\"text-align: right;\">       3000</td><td>36 months</td><td style=\"text-align: right;\">     18.64</td><td style=\"text-align: right;\">           9</td><td>RENT            </td><td style=\"text-align: right;\">       48000</td><td>car           </td><td>CA          </td><td style=\"text-align: right;\"> 5.35</td><td style=\"text-align: right;\">            0</td><td style=\"text-align: right;\">        87.5</td><td style=\"text-align: right;\">          4</td><td style=\"text-align: right;\">         0</td><td style=\"text-align: right;\">                      4</td><td>verified             </td></tr>\n",
       "</tbody>\n",
       "</table>"
      ]
     },
     "metadata": {},
     "output_type": "display_data"
    },
    {
     "data": {
      "text/plain": []
     },
     "execution_count": 4,
     "metadata": {},
     "output_type": "execute_result"
    }
   ],
   "source": [
    "filepath = 'https://raw.githubusercontent.com/h2oai/app-consumer-loan/master/data/loan.csv'\n",
    "data = h2o.import_file(filepath)\n",
    "print('dimension:', data.shape)\n",
    "data.head(6)"
   ]
  },
  {
   "cell_type": "markdown",
   "metadata": {},
   "source": [
    "Since the task we're dealing at hand is a binary classification problem, we must ensure that our response variable is encoded as a `factor` type. If the response is represented as numerical values of 0/1, H2O will assume we want to train a regression model."
   ]
  },
  {
   "cell_type": "code",
   "execution_count": 5,
   "metadata": {},
   "outputs": [
    {
     "data": {
      "text/plain": [
       "[['0', '1']]"
      ]
     },
     "execution_count": 5,
     "metadata": {},
     "output_type": "execute_result"
    }
   ],
   "source": [
    "# encode the binary repsonse as a factor\n",
    "label_col = 'bad_loan'\n",
    "data[label_col] = data[label_col].asfactor()\n",
    "\n",
    "# this is an optional step that checks the factor level\n",
    "data[label_col].levels()"
   ]
  },
  {
   "cell_type": "code",
   "execution_count": 6,
   "metadata": {},
   "outputs": [
    {
     "data": {
      "text/plain": [
       "{'loan_amnt': 'int',\n",
       " 'term': 'enum',\n",
       " 'int_rate': 'real',\n",
       " 'emp_length': 'int',\n",
       " 'home_ownership': 'enum',\n",
       " 'annual_inc': 'real',\n",
       " 'purpose': 'enum',\n",
       " 'addr_state': 'enum',\n",
       " 'dti': 'real',\n",
       " 'delinq_2yrs': 'int',\n",
       " 'revol_util': 'real',\n",
       " 'total_acc': 'int',\n",
       " 'bad_loan': 'enum',\n",
       " 'longest_credit_length': 'int',\n",
       " 'verification_status': 'enum'}"
      ]
     },
     "execution_count": 6,
     "metadata": {},
     "output_type": "execute_result"
    }
   ],
   "source": [
    "# if we check types of each column, we can see which columns\n",
    "# are treated as categorical type (listed as 'enum')\n",
    "data.types"
   ]
  },
  {
   "cell_type": "markdown",
   "metadata": {},
   "source": [
    "Next, we perform a three-way split:\n",
    "\n",
    "- 70% for training\n",
    "- 15% for validation\n",
    "- 15% for final testing\n",
    "\n",
    "We will train a data set on one set and use the others to test the validity of the model by ensuring that it can predict accurately on data the model has not been shown. i.e. to ensure our model is generalizable."
   ]
  },
  {
   "cell_type": "code",
   "execution_count": 7,
   "metadata": {},
   "outputs": [
    {
     "name": "stdout",
     "output_type": "stream",
     "text": [
      "114910\n",
      "24503\n",
      "24574\n"
     ]
    }
   ],
   "source": [
    "# 1. for the splitting percentage, we can leave off\n",
    "# the last proportion, and h2o will generate the\n",
    "# number for the last subset for us\n",
    "# 2. setting a seed will guarantee reproducibility\n",
    "random_split_seed = 1234\n",
    "train, valid, test = data.split_frame([0.7, 0.15], seed = random_split_seed)\n",
    "print(train.nrow)\n",
    "print(valid.nrow)\n",
    "print(test.nrow)"
   ]
  },
  {
   "cell_type": "markdown",
   "metadata": {},
   "source": [
    "Here, we extract the column name that will serve as our response and predictors. These informations will be used during the model training phase."
   ]
  },
  {
   "cell_type": "code",
   "execution_count": 8,
   "metadata": {},
   "outputs": [
    {
     "data": {
      "text/plain": [
       "['loan_amnt',\n",
       " 'term',\n",
       " 'emp_length',\n",
       " 'home_ownership',\n",
       " 'annual_inc',\n",
       " 'purpose',\n",
       " 'addr_state',\n",
       " 'dti',\n",
       " 'delinq_2yrs',\n",
       " 'revol_util',\n",
       " 'total_acc',\n",
       " 'longest_credit_length',\n",
       " 'verification_status']"
      ]
     },
     "execution_count": 8,
     "metadata": {},
     "output_type": "execute_result"
    }
   ],
   "source": [
    "# .names, .col_names, .columns are\n",
    "# all equivalent way of accessing the list\n",
    "# of column names for the h2o dataframe\n",
    "input_cols = data.columns\n",
    "\n",
    "# remove the response and the interest rate\n",
    "# column since it's correlated with our response\n",
    "input_cols.remove(label_col)\n",
    "input_cols.remove('int_rate')\n",
    "input_cols"
   ]
  },
  {
   "cell_type": "markdown",
   "metadata": {},
   "source": [
    "## Modeling"
   ]
  },
  {
   "cell_type": "markdown",
   "metadata": {},
   "source": [
    "We'll now jump into the model training part, here Gradient Boosted Machine (GBM) is used as an example. We will set the number of trees to be 500. Increasing the number of trees in a ensemble tree-based model like GBM is one way to increase performance of the model, however, we have to be careful not to overfit our model to the training data by using too many trees. To automatically find the optimal number of trees, we can leverage H2O's early stopping functionality.\n",
    "\n",
    "There are several parameters that could be used to control early stopping. The three that are generic to all the algorithms are: `stopping_rounds`, `stopping_metric` and `stopping_tolerance`.\n",
    "\n",
    "- `stopping metric` is the metric by which we'd like to measure performance, and we will choose `AUC` here.\n",
    "- `score_tree_interval` is a parameter specific to tree-based models. e.g. setting score_tree_interval=5 will score the model after every five trees.\n",
    "\n",
    "The parameters we have specify below is saying that our model will stop training after there have been three scoring intervals where the AUC has not increased more than 0.0005. Since we have specified a validation frame, the stopping tolerance will be computed on validation AUC rather than training AUC."
   ]
  },
  {
   "cell_type": "code",
   "execution_count": 9,
   "metadata": {},
   "outputs": [
    {
     "name": "stdout",
     "output_type": "stream",
     "text": [
      "gbm Model Build progress: |███████████████████████████████████████████████| 100%\n"
     ]
    }
   ],
   "source": [
    "from h2o.estimators.gbm import H2OGradientBoostingEstimator\n",
    "\n",
    "\n",
    "# we specify an id for the model so we can refer to it more\n",
    "# easily later\n",
    "gbm = H2OGradientBoostingEstimator(\n",
    "    seed = 1,\n",
    "    ntrees = 500,\n",
    "    model_id = 'gbm1',\n",
    "    stopping_rounds = 3,\n",
    "    stopping_metric = 'auc',\n",
    "    score_tree_interval = 5,\n",
    "    stopping_tolerance = 0.0005)\n",
    "\n",
    "# note that it is .train not .fit to train the model\n",
    "# just in case you're coming from scikit-learn\n",
    "gbm.train(\n",
    "    y = label_col,\n",
    "    x = input_cols,\n",
    "    training_frame = train,\n",
    "    validation_frame = valid)"
   ]
  },
  {
   "cell_type": "code",
   "execution_count": 10,
   "metadata": {},
   "outputs": [
    {
     "data": {
      "text/plain": [
       "0.6794802299346006"
      ]
     },
     "execution_count": 10,
     "metadata": {},
     "output_type": "execute_result"
    }
   ],
   "source": [
    "# evaluating the performance, printing the whole\n",
    "# model performance object will give us a whole bunch\n",
    "# of information, we'll only be accessing the auc metric here\n",
    "gbm_test_performance = gbm.model_performance(test)\n",
    "gbm_test_performance.auc()"
   ]
  },
  {
   "cell_type": "markdown",
   "metadata": {},
   "source": [
    "To examine the scoring history, use the `scoring_history` method on a trained model. When early stopping is used, we see that training stopped at before the full 500 trees. Since we also used a validation set in our model, both training and validation performance metrics are stored in the scoring history object. We can take a look at the validation AUC to observe that the correct stopping tolerance was enforced."
   ]
  },
  {
   "cell_type": "code",
   "execution_count": 11,
   "metadata": {},
   "outputs": [
    {
     "data": {
      "text/html": [
       "<div>\n",
       "<style scoped>\n",
       "    .dataframe tbody tr th:only-of-type {\n",
       "        vertical-align: middle;\n",
       "    }\n",
       "\n",
       "    .dataframe tbody tr th {\n",
       "        vertical-align: top;\n",
       "    }\n",
       "\n",
       "    .dataframe thead th {\n",
       "        text-align: right;\n",
       "    }\n",
       "</style>\n",
       "<table border=\"1\" class=\"dataframe\">\n",
       "  <thead>\n",
       "    <tr style=\"text-align: right;\">\n",
       "      <th></th>\n",
       "      <th></th>\n",
       "      <th>timestamp</th>\n",
       "      <th>duration</th>\n",
       "      <th>number_of_trees</th>\n",
       "      <th>training_rmse</th>\n",
       "      <th>training_logloss</th>\n",
       "      <th>training_auc</th>\n",
       "      <th>training_lift</th>\n",
       "      <th>training_classification_error</th>\n",
       "      <th>validation_rmse</th>\n",
       "      <th>validation_logloss</th>\n",
       "      <th>validation_auc</th>\n",
       "      <th>validation_lift</th>\n",
       "      <th>validation_classification_error</th>\n",
       "    </tr>\n",
       "  </thead>\n",
       "  <tbody>\n",
       "    <tr>\n",
       "      <th>0</th>\n",
       "      <td></td>\n",
       "      <td>2018-05-03 12:08:13</td>\n",
       "      <td>0.077 sec</td>\n",
       "      <td>0.0</td>\n",
       "      <td>0.386713</td>\n",
       "      <td>0.475996</td>\n",
       "      <td>0.500000</td>\n",
       "      <td>1.000000</td>\n",
       "      <td>0.816944</td>\n",
       "      <td>0.386364</td>\n",
       "      <td>0.475360</td>\n",
       "      <td>0.500000</td>\n",
       "      <td>1.000000</td>\n",
       "      <td>0.817369</td>\n",
       "    </tr>\n",
       "    <tr>\n",
       "      <th>1</th>\n",
       "      <td></td>\n",
       "      <td>2018-05-03 12:08:14</td>\n",
       "      <td>1.061 sec</td>\n",
       "      <td>5.0</td>\n",
       "      <td>0.379493</td>\n",
       "      <td>0.458513</td>\n",
       "      <td>0.673333</td>\n",
       "      <td>2.945489</td>\n",
       "      <td>0.327883</td>\n",
       "      <td>0.379732</td>\n",
       "      <td>0.459108</td>\n",
       "      <td>0.668517</td>\n",
       "      <td>2.496842</td>\n",
       "      <td>0.353018</td>\n",
       "    </tr>\n",
       "    <tr>\n",
       "      <th>2</th>\n",
       "      <td></td>\n",
       "      <td>2018-05-03 12:08:15</td>\n",
       "      <td>1.757 sec</td>\n",
       "      <td>10.0</td>\n",
       "      <td>0.376101</td>\n",
       "      <td>0.450690</td>\n",
       "      <td>0.681477</td>\n",
       "      <td>3.101920</td>\n",
       "      <td>0.352067</td>\n",
       "      <td>0.376950</td>\n",
       "      <td>0.452440</td>\n",
       "      <td>0.674121</td>\n",
       "      <td>2.626474</td>\n",
       "      <td>0.376280</td>\n",
       "    </tr>\n",
       "    <tr>\n",
       "      <th>3</th>\n",
       "      <td></td>\n",
       "      <td>2018-05-03 12:08:15</td>\n",
       "      <td>2.048 sec</td>\n",
       "      <td>15.0</td>\n",
       "      <td>0.373994</td>\n",
       "      <td>0.445856</td>\n",
       "      <td>0.689024</td>\n",
       "      <td>3.239678</td>\n",
       "      <td>0.342581</td>\n",
       "      <td>0.375470</td>\n",
       "      <td>0.448767</td>\n",
       "      <td>0.679275</td>\n",
       "      <td>2.648732</td>\n",
       "      <td>0.348855</td>\n",
       "    </tr>\n",
       "    <tr>\n",
       "      <th>4</th>\n",
       "      <td></td>\n",
       "      <td>2018-05-03 12:08:16</td>\n",
       "      <td>2.349 sec</td>\n",
       "      <td>20.0</td>\n",
       "      <td>0.372506</td>\n",
       "      <td>0.442351</td>\n",
       "      <td>0.695708</td>\n",
       "      <td>3.315682</td>\n",
       "      <td>0.322148</td>\n",
       "      <td>0.374558</td>\n",
       "      <td>0.446444</td>\n",
       "      <td>0.682624</td>\n",
       "      <td>2.670991</td>\n",
       "      <td>0.373056</td>\n",
       "    </tr>\n",
       "    <tr>\n",
       "      <th>5</th>\n",
       "      <td></td>\n",
       "      <td>2018-05-03 12:08:16</td>\n",
       "      <td>2.624 sec</td>\n",
       "      <td>25.0</td>\n",
       "      <td>0.371359</td>\n",
       "      <td>0.439697</td>\n",
       "      <td>0.700413</td>\n",
       "      <td>3.372685</td>\n",
       "      <td>0.311104</td>\n",
       "      <td>0.373916</td>\n",
       "      <td>0.444788</td>\n",
       "      <td>0.685287</td>\n",
       "      <td>2.670991</td>\n",
       "      <td>0.344611</td>\n",
       "    </tr>\n",
       "    <tr>\n",
       "      <th>6</th>\n",
       "      <td></td>\n",
       "      <td>2018-05-03 12:08:16</td>\n",
       "      <td>2.850 sec</td>\n",
       "      <td>30.0</td>\n",
       "      <td>0.370526</td>\n",
       "      <td>0.437717</td>\n",
       "      <td>0.704236</td>\n",
       "      <td>3.448689</td>\n",
       "      <td>0.302672</td>\n",
       "      <td>0.373476</td>\n",
       "      <td>0.443659</td>\n",
       "      <td>0.686976</td>\n",
       "      <td>2.760024</td>\n",
       "      <td>0.353589</td>\n",
       "    </tr>\n",
       "    <tr>\n",
       "      <th>7</th>\n",
       "      <td></td>\n",
       "      <td>2018-05-03 12:08:16</td>\n",
       "      <td>3.075 sec</td>\n",
       "      <td>35.0</td>\n",
       "      <td>0.369722</td>\n",
       "      <td>0.435857</td>\n",
       "      <td>0.707691</td>\n",
       "      <td>3.505693</td>\n",
       "      <td>0.285798</td>\n",
       "      <td>0.373115</td>\n",
       "      <td>0.442722</td>\n",
       "      <td>0.688511</td>\n",
       "      <td>2.804540</td>\n",
       "      <td>0.349916</td>\n",
       "    </tr>\n",
       "    <tr>\n",
       "      <th>8</th>\n",
       "      <td></td>\n",
       "      <td>2018-05-03 12:08:17</td>\n",
       "      <td>3.304 sec</td>\n",
       "      <td>40.0</td>\n",
       "      <td>0.369036</td>\n",
       "      <td>0.434259</td>\n",
       "      <td>0.710893</td>\n",
       "      <td>3.538944</td>\n",
       "      <td>0.287912</td>\n",
       "      <td>0.372897</td>\n",
       "      <td>0.442141</td>\n",
       "      <td>0.689310</td>\n",
       "      <td>2.760024</td>\n",
       "      <td>0.309554</td>\n",
       "    </tr>\n",
       "    <tr>\n",
       "      <th>9</th>\n",
       "      <td></td>\n",
       "      <td>2018-05-03 12:08:17</td>\n",
       "      <td>3.536 sec</td>\n",
       "      <td>45.0</td>\n",
       "      <td>0.368417</td>\n",
       "      <td>0.432869</td>\n",
       "      <td>0.713505</td>\n",
       "      <td>3.624449</td>\n",
       "      <td>0.286920</td>\n",
       "      <td>0.372789</td>\n",
       "      <td>0.441811</td>\n",
       "      <td>0.689636</td>\n",
       "      <td>2.782282</td>\n",
       "      <td>0.345550</td>\n",
       "    </tr>\n",
       "    <tr>\n",
       "      <th>10</th>\n",
       "      <td></td>\n",
       "      <td>2018-05-03 12:08:17</td>\n",
       "      <td>3.757 sec</td>\n",
       "      <td>50.0</td>\n",
       "      <td>0.367904</td>\n",
       "      <td>0.431713</td>\n",
       "      <td>0.715714</td>\n",
       "      <td>3.667201</td>\n",
       "      <td>0.282247</td>\n",
       "      <td>0.372690</td>\n",
       "      <td>0.441546</td>\n",
       "      <td>0.689859</td>\n",
       "      <td>2.804540</td>\n",
       "      <td>0.341836</td>\n",
       "    </tr>\n",
       "    <tr>\n",
       "      <th>11</th>\n",
       "      <td></td>\n",
       "      <td>2018-05-03 12:08:17</td>\n",
       "      <td>3.944 sec</td>\n",
       "      <td>55.0</td>\n",
       "      <td>0.367515</td>\n",
       "      <td>0.430793</td>\n",
       "      <td>0.717507</td>\n",
       "      <td>3.733705</td>\n",
       "      <td>0.281577</td>\n",
       "      <td>0.372599</td>\n",
       "      <td>0.441280</td>\n",
       "      <td>0.690294</td>\n",
       "      <td>2.760024</td>\n",
       "      <td>0.345876</td>\n",
       "    </tr>\n",
       "    <tr>\n",
       "      <th>12</th>\n",
       "      <td></td>\n",
       "      <td>2018-05-03 12:08:18</td>\n",
       "      <td>4.200 sec</td>\n",
       "      <td>60.0</td>\n",
       "      <td>0.367033</td>\n",
       "      <td>0.429777</td>\n",
       "      <td>0.719403</td>\n",
       "      <td>3.785958</td>\n",
       "      <td>0.277173</td>\n",
       "      <td>0.372575</td>\n",
       "      <td>0.441164</td>\n",
       "      <td>0.690484</td>\n",
       "      <td>2.737765</td>\n",
       "      <td>0.341142</td>\n",
       "    </tr>\n",
       "    <tr>\n",
       "      <th>13</th>\n",
       "      <td></td>\n",
       "      <td>2018-05-03 12:08:18</td>\n",
       "      <td>4.429 sec</td>\n",
       "      <td>65.0</td>\n",
       "      <td>0.366675</td>\n",
       "      <td>0.428969</td>\n",
       "      <td>0.720996</td>\n",
       "      <td>3.809709</td>\n",
       "      <td>0.292751</td>\n",
       "      <td>0.372543</td>\n",
       "      <td>0.441088</td>\n",
       "      <td>0.690330</td>\n",
       "      <td>2.737765</td>\n",
       "      <td>0.338816</td>\n",
       "    </tr>\n",
       "    <tr>\n",
       "      <th>14</th>\n",
       "      <td></td>\n",
       "      <td>2018-05-03 12:08:18</td>\n",
       "      <td>4.923 sec</td>\n",
       "      <td>70.0</td>\n",
       "      <td>0.366224</td>\n",
       "      <td>0.428005</td>\n",
       "      <td>0.722941</td>\n",
       "      <td>3.861962</td>\n",
       "      <td>0.291028</td>\n",
       "      <td>0.372522</td>\n",
       "      <td>0.441015</td>\n",
       "      <td>0.690288</td>\n",
       "      <td>2.782282</td>\n",
       "      <td>0.341836</td>\n",
       "    </tr>\n",
       "    <tr>\n",
       "      <th>15</th>\n",
       "      <td></td>\n",
       "      <td>2018-05-03 12:08:19</td>\n",
       "      <td>5.815 sec</td>\n",
       "      <td>75.0</td>\n",
       "      <td>0.365949</td>\n",
       "      <td>0.427439</td>\n",
       "      <td>0.723807</td>\n",
       "      <td>3.918965</td>\n",
       "      <td>0.281707</td>\n",
       "      <td>0.372498</td>\n",
       "      <td>0.440955</td>\n",
       "      <td>0.690310</td>\n",
       "      <td>2.715507</td>\n",
       "      <td>0.338693</td>\n",
       "    </tr>\n",
       "  </tbody>\n",
       "</table>\n",
       "</div>"
      ],
      "text/plain": [
       "                timestamp    duration  number_of_trees  training_rmse  \\\n",
       "0     2018-05-03 12:08:13   0.077 sec              0.0       0.386713   \n",
       "1     2018-05-03 12:08:14   1.061 sec              5.0       0.379493   \n",
       "2     2018-05-03 12:08:15   1.757 sec             10.0       0.376101   \n",
       "3     2018-05-03 12:08:15   2.048 sec             15.0       0.373994   \n",
       "4     2018-05-03 12:08:16   2.349 sec             20.0       0.372506   \n",
       "5     2018-05-03 12:08:16   2.624 sec             25.0       0.371359   \n",
       "6     2018-05-03 12:08:16   2.850 sec             30.0       0.370526   \n",
       "7     2018-05-03 12:08:16   3.075 sec             35.0       0.369722   \n",
       "8     2018-05-03 12:08:17   3.304 sec             40.0       0.369036   \n",
       "9     2018-05-03 12:08:17   3.536 sec             45.0       0.368417   \n",
       "10    2018-05-03 12:08:17   3.757 sec             50.0       0.367904   \n",
       "11    2018-05-03 12:08:17   3.944 sec             55.0       0.367515   \n",
       "12    2018-05-03 12:08:18   4.200 sec             60.0       0.367033   \n",
       "13    2018-05-03 12:08:18   4.429 sec             65.0       0.366675   \n",
       "14    2018-05-03 12:08:18   4.923 sec             70.0       0.366224   \n",
       "15    2018-05-03 12:08:19   5.815 sec             75.0       0.365949   \n",
       "\n",
       "    training_logloss  training_auc  training_lift  \\\n",
       "0           0.475996      0.500000       1.000000   \n",
       "1           0.458513      0.673333       2.945489   \n",
       "2           0.450690      0.681477       3.101920   \n",
       "3           0.445856      0.689024       3.239678   \n",
       "4           0.442351      0.695708       3.315682   \n",
       "5           0.439697      0.700413       3.372685   \n",
       "6           0.437717      0.704236       3.448689   \n",
       "7           0.435857      0.707691       3.505693   \n",
       "8           0.434259      0.710893       3.538944   \n",
       "9           0.432869      0.713505       3.624449   \n",
       "10          0.431713      0.715714       3.667201   \n",
       "11          0.430793      0.717507       3.733705   \n",
       "12          0.429777      0.719403       3.785958   \n",
       "13          0.428969      0.720996       3.809709   \n",
       "14          0.428005      0.722941       3.861962   \n",
       "15          0.427439      0.723807       3.918965   \n",
       "\n",
       "    training_classification_error  validation_rmse  validation_logloss  \\\n",
       "0                        0.816944         0.386364            0.475360   \n",
       "1                        0.327883         0.379732            0.459108   \n",
       "2                        0.352067         0.376950            0.452440   \n",
       "3                        0.342581         0.375470            0.448767   \n",
       "4                        0.322148         0.374558            0.446444   \n",
       "5                        0.311104         0.373916            0.444788   \n",
       "6                        0.302672         0.373476            0.443659   \n",
       "7                        0.285798         0.373115            0.442722   \n",
       "8                        0.287912         0.372897            0.442141   \n",
       "9                        0.286920         0.372789            0.441811   \n",
       "10                       0.282247         0.372690            0.441546   \n",
       "11                       0.281577         0.372599            0.441280   \n",
       "12                       0.277173         0.372575            0.441164   \n",
       "13                       0.292751         0.372543            0.441088   \n",
       "14                       0.291028         0.372522            0.441015   \n",
       "15                       0.281707         0.372498            0.440955   \n",
       "\n",
       "    validation_auc  validation_lift  validation_classification_error  \n",
       "0         0.500000         1.000000                         0.817369  \n",
       "1         0.668517         2.496842                         0.353018  \n",
       "2         0.674121         2.626474                         0.376280  \n",
       "3         0.679275         2.648732                         0.348855  \n",
       "4         0.682624         2.670991                         0.373056  \n",
       "5         0.685287         2.670991                         0.344611  \n",
       "6         0.686976         2.760024                         0.353589  \n",
       "7         0.688511         2.804540                         0.349916  \n",
       "8         0.689310         2.760024                         0.309554  \n",
       "9         0.689636         2.782282                         0.345550  \n",
       "10        0.689859         2.804540                         0.341836  \n",
       "11        0.690294         2.760024                         0.345876  \n",
       "12        0.690484         2.737765                         0.341142  \n",
       "13        0.690330         2.737765                         0.338816  \n",
       "14        0.690288         2.782282                         0.341836  \n",
       "15        0.690310         2.715507                         0.338693  "
      ]
     },
     "execution_count": 11,
     "metadata": {},
     "output_type": "execute_result"
    }
   ],
   "source": [
    "gbm_history = gbm.scoring_history()\n",
    "gbm_history"
   ]
  },
  {
   "cell_type": "code",
   "execution_count": 12,
   "metadata": {},
   "outputs": [
    {
     "data": {
      "image/png": "[encoded data removed]",
      "text/plain": [
       "<Figure size 576x432 with 1 Axes>"
      ]
     },
     "metadata": {
      "image/png": {
       "height": 376,
       "width": 496
      }
     },
     "output_type": "display_data"
    }
   ],
   "source": [
    "# change default style figure and font size\n",
    "plt.rcParams['figure.figsize'] = 8, 6\n",
    "plt.rcParams['font.size'] = 12\n",
    "\n",
    "plt.plot(gbm_history['training_auc'], label = 'training_auc')\n",
    "plt.plot(gbm_history['validation_auc'], label = 'validation_auc')\n",
    "plt.xticks(range(gbm_history.shape[0]), gbm_history['number_of_trees'].apply(int))\n",
    "plt.title('GBM training history')\n",
    "plt.legend()\n",
    "plt.show()"
   ]
  },
  {
   "cell_type": "markdown",
   "metadata": {},
   "source": [
    "## Hyperparameter Tuning"
   ]
  },
  {
   "cell_type": "markdown",
   "metadata": {},
   "source": [
    "When training machine learning algorithm, often times we wish to perform hyperparameter search. Thus rather than training our model with different parameters manually one-by-one, we will make use of the H2O's Grid Search functionality. H2O offers two types of grid search -- `Cartesian` and `RandomDiscrete`.  Cartesian is the traditional, exhaustive, grid search over all the combinations of model parameters in the grid, whereas Random Grid Search will sample sets of model parameters randomly for some specified period of time (or maximum number of models)."
   ]
  },
  {
   "cell_type": "code",
   "execution_count": 13,
   "metadata": {},
   "outputs": [],
   "source": [
    "# specify the grid\n",
    "gbm_params = {\n",
    "    'max_depth': [3, 5, 9],\n",
    "    'sample_rate': [0.8, 1.0],\n",
    "    'col_sample_rate': [0.2, 0.5, 1.0]}"
   ]
  },
  {
   "cell_type": "markdown",
   "metadata": {},
   "source": [
    "If we wish to specify model parameters that are not part of our grid, we pass them along to the grid via the `H2OGridSearch.train()` method. See example below."
   ]
  },
  {
   "cell_type": "code",
   "execution_count": 14,
   "metadata": {},
   "outputs": [
    {
     "name": "stdout",
     "output_type": "stream",
     "text": [
      "gbm Grid Build progress: |████████████████████████████████████████████████| 100%\n"
     ]
    }
   ],
   "source": [
    "from h2o.grid.grid_search import H2OGridSearch\n",
    "\n",
    "\n",
    "gbm_tuned = H2OGridSearch(\n",
    "    grid_id = 'gbm_tuned1',\n",
    "    hyper_params = gbm_params,\n",
    "    model = H2OGradientBoostingEstimator)\n",
    "gbm_tuned.train(\n",
    "    y = label_col,\n",
    "    x = input_cols,\n",
    "    training_frame = train,\n",
    "    validation_frame = valid,\n",
    "    # nfolds = 5,  # alternatively, we can use N-fold cross-validation\n",
    "    ntrees = 100,\n",
    "    stopping_rounds = 3,\n",
    "    stopping_metric = 'auc',\n",
    "    score_tree_interval = 5,\n",
    "    stopping_tolerance = 0.0005)  # we can specify other parameters like early stopping here"
   ]
  },
  {
   "cell_type": "markdown",
   "metadata": {},
   "source": [
    "To compare the model performance among all the models in a grid, sorted by a particular metric (e.g. AUC), we can use the `get_grid` method."
   ]
  },
  {
   "cell_type": "code",
   "execution_count": 15,
   "metadata": {},
   "outputs": [
    {
     "name": "stdout",
     "output_type": "stream",
     "text": [
      "     col_sample_rate max_depth sample_rate            model_ids  \\\n",
      "0                0.5         3         0.8   gbm_tuned1_model_1   \n",
      "1                0.5         3         1.0  gbm_tuned1_model_10   \n",
      "2                0.5         5         1.0  gbm_tuned1_model_13   \n",
      "3                0.2         5         1.0  gbm_tuned1_model_12   \n",
      "4                0.2         5         0.8   gbm_tuned1_model_3   \n",
      "5                1.0         3         1.0  gbm_tuned1_model_11   \n",
      "6                0.2         3         0.8   gbm_tuned1_model_0   \n",
      "7                1.0         5         1.0  gbm_tuned1_model_14   \n",
      "8                0.5         5         0.8   gbm_tuned1_model_4   \n",
      "9                1.0         3         0.8   gbm_tuned1_model_2   \n",
      "10               1.0         5         0.8   gbm_tuned1_model_5   \n",
      "11               0.2         3         1.0   gbm_tuned1_model_9   \n",
      "12               0.2         9         1.0  gbm_tuned1_model_15   \n",
      "13               0.2         9         0.8   gbm_tuned1_model_6   \n",
      "14               0.5         9         1.0  gbm_tuned1_model_16   \n",
      "15               1.0         9         1.0  gbm_tuned1_model_17   \n",
      "16               0.5         9         0.8   gbm_tuned1_model_7   \n",
      "17               1.0         9         0.8   gbm_tuned1_model_8   \n",
      "\n",
      "                   auc  \n",
      "0   0.6918089925500946  \n",
      "1    0.691564284861529  \n",
      "2   0.6915515429237057  \n",
      "3   0.6914500425661059  \n",
      "4   0.6908617544376421  \n",
      "5   0.6905814596994375  \n",
      "6   0.6905408963763581  \n",
      "7   0.6903099961729556  \n",
      "8   0.6900136457004886  \n",
      "9   0.6898503435971762  \n",
      "10  0.6898350633135957  \n",
      "11  0.6889927955610748  \n",
      "12  0.6860134694109811  \n",
      "13  0.6858734643008169  \n",
      "14  0.6815062487935885  \n",
      "15  0.6805159145910809  \n",
      "16  0.6802604175383513  \n",
      "17  0.6784691543570844  \n"
     ]
    },
    {
     "data": {
      "text/plain": []
     },
     "execution_count": 15,
     "metadata": {},
     "output_type": "execute_result"
    }
   ],
   "source": [
    "gbm_tuned = gbm_tuned.get_grid(\n",
    "    sort_by = 'auc', decreasing = True)\n",
    "gbm_tuned"
   ]
  },
  {
   "cell_type": "markdown",
   "metadata": {},
   "source": [
    "Instead of running a grid search, the example below shows the code modification needed to run a random search.\n",
    "\n",
    "In addition to the hyperparameter dictionary, we will need specify the `search_criteria` as `RandomDiscrete'` with a number for `max_models`, which is equivalent to the number of iterations to run for the random search. This example is set to run fairly quickly, we can increase `max_models` to cover more of the hyperparameter space.  Also, we can expand the hyperparameter space of each of the algorithms by modifying the hyperparameter list below."
   ]
  },
  {
   "cell_type": "code",
   "execution_count": 16,
   "metadata": {},
   "outputs": [
    {
     "name": "stdout",
     "output_type": "stream",
     "text": [
      "gbm Grid Build progress: |████████████████████████████████████████████████| 100%\n",
      "    col_sample_rate max_depth sample_rate           model_ids  \\\n",
      "0               0.5         5         1.0  gbm_tuned2_model_1   \n",
      "1               1.0         3         1.0  gbm_tuned2_model_2   \n",
      "2               1.0         5         0.8  gbm_tuned2_model_0   \n",
      "3               0.2         9         0.8  gbm_tuned2_model_3   \n",
      "4               1.0         9         1.0  gbm_tuned2_model_4   \n",
      "\n",
      "                  auc  \n",
      "0  0.6914196605199648  \n",
      "1  0.6905814596994375  \n",
      "2  0.6895219932318218  \n",
      "3  0.6848488373260676  \n",
      "4  0.6788494710756896  \n"
     ]
    },
    {
     "data": {
      "text/plain": []
     },
     "execution_count": 16,
     "metadata": {},
     "output_type": "execute_result"
    }
   ],
   "source": [
    "# specify the grid and search criteria\n",
    "gbm_params = {\n",
    "    'max_depth': [3, 5, 9],\n",
    "    'sample_rate': [0.8, 1.0],\n",
    "    'col_sample_rate': [0.2, 0.5, 1.0]}\n",
    "\n",
    "# note that in addition to max_models\n",
    "# we can specify max_runtime_secs\n",
    "# to run as many model as we can\n",
    "# for X amount of seconds\n",
    "search_criteria = {\n",
    "    'max_models': 5,\n",
    "    'strategy': 'RandomDiscrete'}\n",
    "\n",
    "# train the hyperparameter searched model\n",
    "gbm_tuned = H2OGridSearch(\n",
    "    grid_id = 'gbm_tuned2',\n",
    "    hyper_params = gbm_params,\n",
    "    search_criteria = search_criteria,\n",
    "    model = H2OGradientBoostingEstimator)\n",
    "gbm_tuned.train(\n",
    "    y = label_col,\n",
    "    x = input_cols,\n",
    "    training_frame = train,\n",
    "    validation_frame = valid,\n",
    "    ntrees = 100)\n",
    "\n",
    "# evaluate the model performance\n",
    "gbm_tuned = gbm_tuned.get_grid(\n",
    "    sort_by = 'auc', decreasing = True)\n",
    "gbm_tuned"
   ]
  },
  {
   "cell_type": "markdown",
   "metadata": {},
   "source": [
    "Lastly, let's extract the top model, as determined by validation AUC, from the grid and use to evaluate the model performance on a test set, so we get an honest estimate of top model performance."
   ]
  },
  {
   "cell_type": "code",
   "execution_count": 17,
   "metadata": {},
   "outputs": [
    {
     "data": {
      "text/plain": [
       "0.6797920802073659"
      ]
     },
     "execution_count": 17,
     "metadata": {},
     "output_type": "execute_result"
    }
   ],
   "source": [
    "# our model is reordered based on the sorting done above;\n",
    "# hence we can retrieve the first model id to retrieve\n",
    "# to best performing model that we currently have\n",
    "gbm_best = gbm_tuned.models[0]\n",
    "gbm_best_performance = gbm_best.model_performance(test)\n",
    "gbm_best_performance.auc()"
   ]
  },
  {
   "cell_type": "code",
   "execution_count": 18,
   "metadata": {},
   "outputs": [
    {
     "data": {
      "text/plain": [
       "0.6797920802073659"
      ]
     },
     "execution_count": 18,
     "metadata": {},
     "output_type": "execute_result"
    }
   ],
   "source": [
    "# saving and loading the model\n",
    "model_path = h2o.save_model(\n",
    "    model = gbm_best, path = 'h2o_gbm', force = True)\n",
    "saved_model = h2o.load_model(model_path)\n",
    "gbm_best_performance = saved_model.model_performance(test)\n",
    "gbm_best_performance.auc()"
   ]
  },
  {
   "cell_type": "code",
   "execution_count": 19,
   "metadata": {},
   "outputs": [
    {
     "name": "stdout",
     "output_type": "stream",
     "text": [
      "gbm prediction progress: |████████████████████████████████████████████████| 100%\n"
     ]
    },
    {
     "data": {
      "text/html": [
       "<table>\n",
       "<thead>\n",
       "<tr><th style=\"text-align: right;\">  predict</th><th style=\"text-align: right;\">      p0</th><th style=\"text-align: right;\">       p1</th></tr>\n",
       "</thead>\n",
       "<tbody>\n",
       "<tr><td style=\"text-align: right;\">        0</td><td style=\"text-align: right;\">0.841312</td><td style=\"text-align: right;\">0.158688 </td></tr>\n",
       "<tr><td style=\"text-align: right;\">        0</td><td style=\"text-align: right;\">0.910571</td><td style=\"text-align: right;\">0.089429 </td></tr>\n",
       "<tr><td style=\"text-align: right;\">        1</td><td style=\"text-align: right;\">0.772623</td><td style=\"text-align: right;\">0.227377 </td></tr>\n",
       "<tr><td style=\"text-align: right;\">        0</td><td style=\"text-align: right;\">0.839826</td><td style=\"text-align: right;\">0.160174 </td></tr>\n",
       "<tr><td style=\"text-align: right;\">        0</td><td style=\"text-align: right;\">0.903449</td><td style=\"text-align: right;\">0.0965509</td></tr>\n",
       "<tr><td style=\"text-align: right;\">        0</td><td style=\"text-align: right;\">0.809033</td><td style=\"text-align: right;\">0.190967 </td></tr>\n",
       "<tr><td style=\"text-align: right;\">        0</td><td style=\"text-align: right;\">0.821883</td><td style=\"text-align: right;\">0.178117 </td></tr>\n",
       "<tr><td style=\"text-align: right;\">        0</td><td style=\"text-align: right;\">0.852599</td><td style=\"text-align: right;\">0.147401 </td></tr>\n",
       "<tr><td style=\"text-align: right;\">        0</td><td style=\"text-align: right;\">0.881238</td><td style=\"text-align: right;\">0.118762 </td></tr>\n",
       "<tr><td style=\"text-align: right;\">        0</td><td style=\"text-align: right;\">0.864529</td><td style=\"text-align: right;\">0.135471 </td></tr>\n",
       "</tbody>\n",
       "</table>"
      ]
     },
     "metadata": {},
     "output_type": "display_data"
    },
    {
     "data": {
      "text/plain": []
     },
     "execution_count": 19,
     "metadata": {},
     "output_type": "execute_result"
    }
   ],
   "source": [
    "# generate the prediction on the test set, notice that\n",
    "# it will generate the predicted probability\n",
    "# along with the actual predicted class;\n",
    "#\n",
    "# we can extract the predicted probability for the\n",
    "# positive class and dump it back to pandas using\n",
    "# the syntax below if necessary:\n",
    "#\n",
    "# gbm_test_pred['p1'].as_data_frame(use_pandas = True)\n",
    "gbm_test_pred = gbm_best.predict(test)\n",
    "gbm_test_pred"
   ]
  },
  {
   "cell_type": "code",
   "execution_count": 20,
   "metadata": {},
   "outputs": [
    {
     "name": "stdout",
     "output_type": "stream",
     "text": [
      "H2O session _sid_bdfa closed.\n"
     ]
    }
   ],
   "source": [
    "# remember to shut down the h2o cluster once we're done\n",
    "h2o.cluster().shutdown(prompt = False)"
   ]
  },
  {
   "cell_type": "markdown",
   "metadata": {},
   "source": [
    "# Reference\n",
    "\n",
    "- [H2O Sphinx Documentation](http://docs.h2o.ai/h2o/latest-stable/h2o-docs/index.html)\n",
    "- [H2O Web Page Documentation](http://docs.h2o.ai/)\n",
    "- [Quora: Why would one use H2O.ai over scikit-learn machine learning tool?](https://www.quora.com/Why-would-one-use-H2O-ai-over-scikit-learn-machine-learning-tool)\n",
    "- [Github: Tutorials and training material for the H2O Machine Learning Platform](https://github.com/h2oai/h2o-tutorials)\n",
    "- [Github: A minimal benchmark for scalability, speed and accuracy of commonly used open source implementations](https://github.com/szilard/benchm-ml)"
   ]
  }
 ],
 "metadata": {
  "kernelspec": {
   "display_name": "Python 3",
   "language": "python",
   "name": "python3"
  },
  "language_info": {
   "codemirror_mode": {
    "name": "ipython",
    "version": 3
   },
   "file_extension": ".py",
   "mimetype": "text/x-python",
   "name": "python",
   "nbconvert_exporter": "python",
   "pygments_lexer": "ipython3",
   "version": "3.6.4"
  },
  "toc": {
   "nav_menu": {},
   "number_sections": true,
   "sideBar": true,
   "skip_h1_title": false,
   "title_cell": "Table of Contents",
   "title_sidebar": "Contents",
   "toc_cell": true,
   "toc_position": {
    "height": "calc(100% - 180px)",
    "left": "10px",
    "top": "150px",
    "width": "220px"
   },
   "toc_section_display": true,
   "toc_window_display": true
  },
  "varInspector": {
   "cols": {
    "lenName": 16,
    "lenType": 16,
    "lenVar": 40
   },
   "kernels_config": {
    "python": {
     "delete_cmd_postfix": "",
     "delete_cmd_prefix": "del ",
     "library": "var_list.py",
     "varRefreshCmd": "print(var_dic_list())"
    },
    "r": {
     "delete_cmd_postfix": ") ",
     "delete_cmd_prefix": "rm(",
     "library": "var_list.r",
     "varRefreshCmd": "cat(var_dic_list()) "
    }
   },
   "types_to_exclude": [
    "module",
    "function",
    "builtin_function_or_method",
    "instance",
    "_Feature"
   ],
   "window_display": false
  }
 },
 "nbformat": 4,
 "nbformat_minor": 2
}
